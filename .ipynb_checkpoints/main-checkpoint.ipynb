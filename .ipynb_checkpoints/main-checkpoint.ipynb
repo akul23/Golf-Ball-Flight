{
 "cells": [
  {
   "cell_type": "markdown",
   "metadata": {
    "slideshow": {
     "slide_type": ""
    },
    "tags": []
   },
   "source": [
    "Avtor: **Luka Knapič**, **23221181**\n",
    "\n",
    "Datum: 19. december 2023\n",
    "\n",
    "Potrjujem, da sem avtor projektne naloge in da sem vso vsebino pripravil sam. V primeru, da se ugotovi plagiatorstvo se zavedam, da ne bom izpolnjeval pogojev za pristop k izpitu.\n"
   ]
  },
  {
   "cell_type": "markdown",
   "metadata": {},
   "source": [
    "**Navodila za uporabo predloge**\n"
   ]
  },
  {
   "cell_type": "markdown",
   "metadata": {},
   "source": [
    "Za uporabo te predloge potrebujemo Python 3.9 ali višje ter naložene nekatere module. Potrebne module naložimo z uporabo sledečih komand.\n"
   ]
  },
  {
   "cell_type": "code",
   "execution_count": 21,
   "metadata": {
    "scrolled": true
   },
   "outputs": [],
   "source": [
    "# !pip install numpy\n",
    "# !pip install sympy\n",
    "# !pip install scipy\n",
    "# !pip install matplotlib\n",
    "# !pip install pandas\n",
    "# !pip install importlib\n",
    "# !pip install ipywidgets"
   ]
  },
  {
   "cell_type": "markdown",
   "metadata": {
    "slideshow": {
     "slide_type": ""
    },
    "tags": []
   },
   "source": [
    "Za polni izkoristek funkcijonalnosti predloge je potrebna povezava z internetom.\n",
    "<br><br> Naslenje okno poženemo, da v program uvozimo vse potrebne module in skripte:\n"
   ]
  },
  {
   "cell_type": "code",
   "execution_count": 7,
   "metadata": {},
   "outputs": [],
   "source": [
    "import numpy as np\n",
    "import sympy as sym\n",
    "import matplotlib.pyplot as plt\n",
    "\n",
    "from src import UI, environment, ball, flight_calculation\n",
    "from importlib import reload\n",
    "from IPython.display import display\n",
    "\n",
    "sym.init_printing()"
   ]
  },
  {
   "cell_type": "markdown",
   "metadata": {
    "toc": true
   },
   "source": [
    "<h1>Kazalo<span class=\"tocSkip\"></span></h1>\n",
    "<div class=\"toc\"><ul class=\"toc-item\"><li><span><a href=\"#Definicija-naloge\" data-toc-modified-id=\"Definicija-naloge-1\"><span class=\"toc-item-num\">1&nbsp;&nbsp;</span>Definicija naloge</a></span></li><li><span><a href=\"#Matematični-uvod\" data-toc-modified-id=\"Matematični-uvod-2\"><span class=\"toc-item-num\">2&nbsp;&nbsp;</span>Matematični uvod</a></span></li><li><span><a href=\"#Izpeljava-sile-zračnega-upora\" data-toc-modified-id=\"Izpeljava-sile-zračnega-upora-3\"><span class=\"toc-item-num\">3&nbsp;&nbsp;</span>Izpeljava sile zračnega upora</a></span><ul class=\"toc-item\"><li><span><a href=\"#Interpolacija-funkcije-koeficienta-upora-v-odvisnosti-od-Reynoldsovega-števila\" data-toc-modified-id=\"Interpolacija-funkcije-koeficienta-upora-v-odvisnosti-od-Reynoldsovega-števila-3.1\"><span class=\"toc-item-num\">3.1&nbsp;&nbsp;</span>Interpolacija funkcije koeficienta upora v odvisnosti od Reynoldsovega števila</a></span></li><li><span><a href=\"#Simbolno-reševanje-$\\vec{F}_m$\" data-toc-modified-id=\"Simbolno-reševanje-$\\vec{F}_m$-3.2\"><span class=\"toc-item-num\">3.2&nbsp;&nbsp;</span>Simbolno reševanje $\\vec{F}_m$</a></span></li></ul></li><li><span><a href=\"#Izpeljava-sile-vetra\" data-toc-modified-id=\"Izpeljava-sile-vetra-4\"><span class=\"toc-item-num\">4&nbsp;&nbsp;</span>Izpeljava sile vetra</a></span></li><li><span><a href=\"#Izračun-poti-leta\" data-toc-modified-id=\"Izračun-poti-leta-5\"><span class=\"toc-item-num\">5&nbsp;&nbsp;</span>Izračun poti leta</a></span><ul class=\"toc-item\"><li><span><a href=\"#Reševanje-diferencialne-enačbe\" data-toc-modified-id=\"Reševanje-diferencialne-enačbe-5.1\"><span class=\"toc-item-num\">5.1&nbsp;&nbsp;</span>Reševanje diferencialne enačbe</a></span></li><li><span><a href=\"#Iskanje-ničel\" data-toc-modified-id=\"Iskanje-ničel-5.2\"><span class=\"toc-item-num\">5.2&nbsp;&nbsp;</span>Iskanje ničel</a></span></li><li><span><a href=\"#Numerično-integriranje\" data-toc-modified-id=\"Numerično-integriranje-5.3\"><span class=\"toc-item-num\">5.3&nbsp;&nbsp;</span>Numerično integriranje</a></span></li></ul></li><li><span><a href=\"#Izračun-izgube-energije-po-odboju\" data-toc-modified-id=\"Izračun-izgube-energije-po-odboju-6\"><span class=\"toc-item-num\">6&nbsp;&nbsp;</span>Izračun izgube energije po odboju</a></span><ul class=\"toc-item\"><li><span><a href=\"#Reševanje-sistema-linearnih-enačb\" data-toc-modified-id=\"Reševanje-sistema-linearnih-enačb-6.1\"><span class=\"toc-item-num\">6.1&nbsp;&nbsp;</span>Reševanje sistema linearnih enačb</a></span></li></ul></li><li><span><a href=\"#Simulacija\" data-toc-modified-id=\"Simulacija-7\"><span class=\"toc-item-num\">7&nbsp;&nbsp;</span>Simulacija</a></span></li><li><span><a href=\"#Literatura\" data-toc-modified-id=\"Literatura-8\"><span class=\"toc-item-num\">8&nbsp;&nbsp;</span>Literatura</a></span></li></ul></div>"
   ]
  },
  {
   "cell_type": "markdown",
   "metadata": {},
   "source": [
    "# Definicija naloge"
   ]
  },
  {
   "cell_type": "markdown",
   "metadata": {},
   "source": [
    "V nalogi se obravnava dinamika leta golf žogice in prvi odboj po pristanku na zelenici. Dinamika takšnega leta je precej kompleksna zato bomo upoštevali le poglavitne vplive na žogo med letom. Ti vplivi so zračni upor, vzgon kot posledica vrtenja žogice, vpliv vetra ter seveda gravitacije.\n",
    "<br> <br>Na sliki vidimo vse vplive, ki jih bomo upoštevali v tej nalogi:\n",
    "<br><br><img src=\"resources\\zoga_vplivi.png\\\" width=250>\n"
   ]
  },
  {
   "cell_type": "markdown",
   "metadata": {},
   "source": [
    "# Matematični uvod\n",
    "\n",
    "Na žogico v letu deluje veliko različnih faktorjev, v tem projektu bom poskusil zajeti dejavnike z največjim vplivom na let.\n",
    "<br> Ti dejavniki so:\n",
    "\n",
    "- Zračni upor\n",
    "- Magnus efekt\n",
    "- Veter\n",
    "- Gravitacija\n",
    "\n",
    "<br>Odvisni pa so od temperature, tlaka, trenustne hitrosti itd.\n"
   ]
  },
  {
   "cell_type": "markdown",
   "metadata": {},
   "source": [
    "Gibalno enačbo lahko začnemo razvijati po 2. Newtonovem zakonu:\n",
    "\n",
    "<br>$\\vec{\\ddot{r}}\\cdot m_{zogica}  = \\vec{F}_{upora}+\\vec{F}_{magnus}+\\vec{F}_{veter}+\\vec{F}_{g} \\qquad[1.1]$\n",
    "\n",
    "<br>Da izrazimo vektor pospeška žoge delimo enačbo z $m_{zogica}$ in dobimo\n",
    "\n",
    "<br>$\\vec{\\ddot{r}} = \\vec{F}_{upora}/m_{zogice}+\\vec{F}_{magnus}/m_{zogice}+\\vec{F}_{veter}/m_{zogice}+\\vec{g} \\qquad[1.2]$\n",
    "\n",
    "<br>Zdaj pa moramo definirati vsako neznano silo\n"
   ]
  },
  {
   "cell_type": "markdown",
   "metadata": {},
   "source": [
    "# Izpeljava sile zračnega upora\n",
    "\n",
    "<br>Silo zračnega upora modeliramo po kvadratnemu zakonu upora\n",
    "\n",
    "<br>&nbsp;&nbsp;&nbsp;&nbsp;&nbsp;$\\vec{F} = \\frac{1}{2}\\cdot C_{d}\\cdot \\rho \\cdot A \\cdot \\vec{v} \\odot \\vec{v}$\n",
    "\n",
    "<br>&nbsp;&nbsp;&nbsp;&nbsp;&nbsp;kjer $\\odot$ označuje operacijo množenja vektorjev po elementih\n",
    "\n",
    "**poiščimo neznanke:**\n",
    "\n",
    "<br>&nbsp;&nbsp;&nbsp;&nbsp;&nbsp;$C_{d}$ je koeficient upora, ki ga bomo spodaj izračunali s pomočjo interpolacije saj ni konstanten, temveč odvisen od hitrosti\n",
    "\n",
    "<br>&nbsp;&nbsp;&nbsp;&nbsp;&nbsp;$\\rho [\\frac{Kg}{m^3}]$ bomo izračunali po zakonu idealnih plinov $\\rho = \\frac{p}{R \\cdot T}$, kjer je:\n",
    "<br>&nbsp;&nbsp;&nbsp;&nbsp;&nbsp;&nbsp;&nbsp;&nbsp;- $p$ tlak [$Pa$]\n",
    "<br>&nbsp;&nbsp;&nbsp;&nbsp;&nbsp;&nbsp;&nbsp;&nbsp;- $R$ specifična plinska konstanta [$\\frac{J}{Kg \\cdot K}$]\n",
    "<br>&nbsp;&nbsp;&nbsp;&nbsp;&nbsp;&nbsp;&nbsp;&nbsp;- $T$ temperatura [$K$]\n",
    "\n",
    "<br>&nbsp;&nbsp;&nbsp;&nbsp;&nbsp;$A [m^2]$ je projektirana površina, ki se upira zraku izračunana po formuli $A = \\pi r^{2}$\n",
    "\n",
    "<br>&nbsp;&nbsp;&nbsp;&nbsp;&nbsp;$\\vec{v}[m/s]$ pa je spremenljivka\n"
   ]
  },
  {
   "cell_type": "markdown",
   "metadata": {},
   "source": [
    "## Interpolacija funkcije koeficienta upora v odvisnosti od Reynoldsovega števila\n"
   ]
  },
  {
   "cell_type": "markdown",
   "metadata": {},
   "source": [
    "Izkaže se, da je koeficient trenja $C_{d}$ odvisen od hitrosti potovanja žogice relativno na okoliški zrak. Študija [2] raziskuje ravno to relacijo, v svojih eksperimentih so uporabili odvisnost $C_{d}$ od Reynoldsovega števila. Iz njihovih rezultatov sem tabeliral izmerjene točke za različne proizvajalce golf žogic.\n",
    "<br>Poglejmo si izmerjene podatke za vse tri žogice\n"
   ]
  },
  {
   "cell_type": "code",
   "execution_count": 8,
   "metadata": {},
   "outputs": [
    {
     "data": {
      "text/plain": [
       "Text(0, 0.5, 'Koeficient upora')"
      ]
     },
     "execution_count": 8,
     "metadata": {},
     "output_type": "execute_result"
    },
    {
     "data": {
      "image/png": "[encoded data removed]",
      "text/plain": [
       "<Figure size 432x288 with 1 Axes>"
      ]
     },
     "metadata": {
      "needs_background": "light"
     },
     "output_type": "display_data"
    }
   ],
   "source": [
    "def print_points():\n",
    "    calloway = ball.read_ball_data(ball_type=\"Calloway\")\n",
    "    titleist = ball.read_ball_data(ball_type=\"Titleist\")\n",
    "    taylormade = ball.read_ball_data(ball_type=\"TaylorMade\")\n",
    "\n",
    "\n",
    "    plt.plot(calloway[:, 0], calloway[:, 1], \"ro\")\n",
    "    plt.plot(titleist[:, 0], titleist[:, 1], \"b^\")\n",
    "    plt.plot(taylormade[:, 0], taylormade[:, 1], \"g*\")\n",
    "\n",
    "print_points()\n",
    "\n",
    "legend_handles = [\n",
    "    plt.Line2D([0], [0], marker=\"o\", color=\"w\", markerfacecolor=\"r\", markersize=8),\n",
    "    plt.Line2D([0], [0], marker=\"^\", color=\"w\", markerfacecolor=\"b\", markersize=8),\n",
    "    plt.Line2D([0], [0], marker=\"*\", color=\"w\", markerfacecolor=\"g\", markersize=8),\n",
    "]\n",
    "\n",
    "legend_labels = [\"Callaway\", \"Titleist\", \"TaylorMade\"]\n",
    "plt.legend(legend_handles, legend_labels)\n",
    "plt.title(\"Eksperimentalno določene vrednosti\")\n",
    "plt.xlim(45000, 145000)\n",
    "plt.xlabel(\"Reynoldsovo število\")\n",
    "plt.ylabel(\"Koeficient upora\")"
   ]
  },
  {
   "cell_type": "markdown",
   "metadata": {},
   "source": [
    "Opazimo, da se upor poveča pri nižjih hitrostih, to nam lahko pri interpolaciji postavi težavo, saj nimamo definiranih točk pri $Re <50000$. Da interpolirano funkcijo približamo realnemu stanju podamo še znano točko $C_d(0) = 0$.\n",
    "<br><br>Za popis karakteristike potrebujemo funkcijo, da lahko pri poljubnem Renoldsovem številu dobimo koeficient trenja to naredimo z interpolacijo. Interpoliramo z funkcijo `interpolate.InterpolatedUnivariateSpline` iz knjižnice `SciPy`.\n",
    "<br><br>Ta funkcija z kubičnimi B-zlepki interpolira skozi podane točke in nam vrne sledeče funkcije\n"
   ]
  },
  {
   "cell_type": "code",
   "execution_count": 9,
   "metadata": {},
   "outputs": [
    {
     "data": {
      "text/plain": [
       "[<matplotlib.lines.Line2D at 0x23918080048>]"
      ]
     },
     "execution_count": 9,
     "metadata": {},
     "output_type": "execute_result"
    },
    {
     "data": {
      "image/png": "[encoded data removed]",
      "text/plain": [
       "<Figure size 432x288 with 1 Axes>"
      ]
     },
     "metadata": {
      "needs_background": "light"
     },
     "output_type": "display_data"
    }
   ],
   "source": [
    "s_ca = ball.c_d_re_interpolation(ball_type=\"Calloway\")\n",
    "s_ti = ball.c_d_re_interpolation(ball_type=\"Titleist\")\n",
    "s_ta = ball.c_d_re_interpolation(ball_type=\"TaylorMade\")\n",
    "\n",
    "test_x = np.linspace(0, 190000, 1000)\n",
    "test_y_ca = s_ca(test_x)\n",
    "test_y_ti = s_ti(test_x)\n",
    "test_y_ta = s_ta(test_x)\n",
    "\n",
    "plt.title(r\"Interpolirana funkcija $\\mathregular{C_d}$(Re)\")\n",
    "plt.xlabel(\"Reynoldsovo število\")\n",
    "plt.ylabel(\"Koeficient upora\")\n",
    "\n",
    "print_points()\n",
    "\n",
    "legend_handles = [\n",
    "    plt.Line2D([0], [0], color=\"r\", markersize=8),\n",
    "    plt.Line2D([0], [0], color=\"b\", markersize=8),\n",
    "    plt.Line2D([0], [0], color=\"g\", markersize=8),\n",
    "]\n",
    "\n",
    "legend_labels = [\"Callaway\", \"Titleist\", \"TaylorMade\"]\n",
    "\n",
    "plt.legend(legend_handles, legend_labels)\n",
    "plt.xlim(45000, 145000)\n",
    "plt.ylim(0, 0.8)\n",
    "\n",
    "plt.plot(test_x, test_y_ca, \"r\")\n",
    "plt.plot(test_x, test_y_ti, \"b\")\n",
    "plt.plot(test_x, test_y_ta, \"g\")"
   ]
  },
  {
   "cell_type": "markdown",
   "metadata": {},
   "source": [
    "In tako smo definirali vse neznanke za modeliranje zračnega upora.\n",
    "<br><br>Končna formula zračnega upora je torej $\\vec{F} = \\frac{1}{2}\\cdot \\frac{p}{R \\cdot T} \\cdot \\pi r^{2} \\cdot \\vec{v} \\odot \\vec{v} \\odot C_{d}(\\vec{R_e})$\n"
   ]
  },
  {
   "cell_type": "markdown",
   "metadata": {},
   "source": [
    "## Simbolno reševanje $\\vec{F}_m$"
   ]
  },
  {
   "cell_type": "markdown",
   "metadata": {},
   "source": [
    "Sila vzgona zaradi rotacije je povezna z razliko hitrosti z katero fluid obteka telo, to nas pripelje do Bernoullijeve enačbe. Zapišimo jo z izpostevljeno spremembo tlaka\n",
    "<br><br>$\\Delta p=\\frac{\\rho}{2}(\\vec{v_{a}}^{2}-\\vec{v_{b}}^{2})$\n",
    "<br><br>Želimo pa vstaviti vrednosti za $\\vec{v_{a}}^{2}$ in $\\vec{v_{b}}^{2}$ te dve hitrosti si lahko predstavljamo, kot hitrost z katero zrak obteka žogo na nasprotnih polih. To hitrost lahko zapišemo kot $\\vec{v_{a}}=\\vec{v_{0}}-\\vec{\\omega}\\times\\vec{r}$ in podobno tudi za $\\vec{v_{b}}$\n",
    "<br>Z nadalnjo poenostavitvijo dobimo $\\Delta p = \\frac{1}{2} \\rho r (\\vec{\\omega}\\times \\vec{v})$\n",
    "<br>Vemo, da je $\\vec{F} = \\int_{A}^{}\\Delta p\\text{ }dA$ in ko vstavimo vidimo, da je $\\vec{F}_m = \\frac{1}{2} \\rho r (\\vec{\\omega}\\times \\vec{v}) \\cdot \\int_{A}^{}dA = \\frac{1}{2} \\rho A r (\\vec{\\omega}\\times \\vec{v})$.\n",
    "<br><br> Ker je računanje vektorskega produkta časovno potratno bomo z knjižnico `Sympy` ustvarili numerično funkcijo za hitrejši izračun te sile. Začnimo z definicijo simbolov\n"
   ]
  },
  {
   "cell_type": "code",
   "execution_count": 10,
   "metadata": {},
   "outputs": [],
   "source": [
    "rho, r, r_1_s = sym.symbols(\"rho, r r_1\", positive=True)\n",
    "w = sym.Matrix(sym.MatrixSymbol(\"w\", 3, 1))\n",
    "v = sym.Matrix(sym.MatrixSymbol(\"v\", 3, 1))"
   ]
  },
  {
   "cell_type": "markdown",
   "metadata": {},
   "source": [
    "sedaj izračunamo A. A je povprečna projektirana površina žogice. To izračunamo tako, da izenačimo ploščino sredinskega kroga (z radijem $r_1$)\n",
    "<br>ter ploščino kolobara (z notranjim radijem $r_1$ in zunanjim radijem $r$) in izračunamo $r_1$, ki je radius kroga z povprečno projektirano površino\n"
   ]
  },
  {
   "cell_type": "code",
   "execution_count": 11,
   "metadata": {},
   "outputs": [
    {
     "data": {
      "image/png": "[encoded data removed]",
      "text/latex": [
       "$\\displaystyle \\frac{\\sqrt{2} r}{2}$"
      ],
      "text/plain": [
       "√2⋅r\n",
       "────\n",
       " 2  "
      ]
     },
     "execution_count": 11,
     "metadata": {},
     "output_type": "execute_result"
    }
   ],
   "source": [
    "A_1 = sym.pi * r_1_s**2\n",
    "A_k = sym.pi * r**2 - A_1\n",
    "r_1 = sym.solve(sym.Eq(A_1, A_k), r_1_s, positive=True)\n",
    "r_1[0]"
   ]
  },
  {
   "cell_type": "markdown",
   "metadata": {
    "slideshow": {
     "slide_type": ""
    },
    "tags": []
   },
   "source": [
    "sedaj lahko zapišemo konstantni del enačbe in ga označimo z $S$\n",
    "<br>$S = \\frac{1}{2}\\rho \\pi r^3$\n",
    "<br>in to poračunamo z $\\vec{\\omega}\\times \\vec{v}$\n"
   ]
  },
  {
   "cell_type": "code",
   "execution_count": 12,
   "metadata": {},
   "outputs": [
    {
     "data": {
      "text/latex": [
       "$\\displaystyle \\left[\\begin{matrix}\\frac{\\pi r^{3} \\rho \\left(- v_{1, 0} w_{2, 0} + v_{2, 0} w_{1, 0}\\right)}{2}\\\\\\frac{\\pi r^{3} \\rho \\left(v_{0, 0} w_{2, 0} - v_{2, 0} w_{0, 0}\\right)}{2}\\\\\\frac{\\pi r^{3} \\rho \\left(- v_{0, 0} w_{1, 0} + v_{1, 0} w_{0, 0}\\right)}{2}\\end{matrix}\\right]$"
      ],
      "text/plain": [
       "⎡   3                       ⎤\n",
       "⎢π⋅r ⋅ρ⋅(-v₁₀⋅w₂₀ + v₂₀⋅w₁₀)⎥\n",
       "⎢───────────────────────────⎥\n",
       "⎢             2             ⎥\n",
       "⎢                           ⎥\n",
       "⎢   3                       ⎥\n",
       "⎢π⋅r ⋅ρ⋅(v₀₀⋅w₂₀ - v₂₀⋅w₀₀) ⎥\n",
       "⎢────────────────────────── ⎥\n",
       "⎢            2              ⎥\n",
       "⎢                           ⎥\n",
       "⎢   3                       ⎥\n",
       "⎢π⋅r ⋅ρ⋅(-v₀₀⋅w₁₀ + v₁₀⋅w₀₀)⎥\n",
       "⎢───────────────────────────⎥\n",
       "⎣             2             ⎦"
      ]
     },
     "execution_count": 12,
     "metadata": {},
     "output_type": "execute_result"
    }
   ],
   "source": [
    "F = rho * r_1[0] ** 2 * r * sym.pi * w.cross(v)\n",
    "F"
   ]
  },
  {
   "cell_type": "markdown",
   "metadata": {},
   "source": [
    "nato pa spremenimo v numerično funkcijo z predvstavljenimi konstantnimi vrednostmi. Vrednosti, ki bodo skozi celoten let konstantne vstavimo pri kreaciji funkcije. Hitrost, ki pa se bo v vsakem časovnem koraku spremenila pa vstavljamo v rezultantno numerično funkcijo in dobimo silo vzgona\n"
   ]
  },
  {
   "cell_type": "code",
   "execution_count": 13,
   "metadata": {},
   "outputs": [
    {
     "data": {
      "text/plain": [
       "array([[-0.04900885],\n",
       "       [ 0.        ],\n",
       "       [ 0.16336282]])"
      ]
     },
     "execution_count": 13,
     "metadata": {},
     "output_type": "execute_result"
    }
   ],
   "source": [
    "F_subs = F.subs({w[0]: 0, w[1]: -200, w[2]: 0, rho: 1.3, r: 0.02})\n",
    "f = sym.lambdify(v, F_subs, \"numpy\")\n",
    "f(50, 0, 15)"
   ]
  },
  {
   "cell_type": "markdown",
   "metadata": {},
   "source": [
    "# Izpeljava sile vetra\n",
    "\n",
    "Silo delujočo na žogico med letom bomo izračunali po naslednji formuli\n",
    "<br><br> $F_{vetra} = 0.5 \\cdot \\rho \\cdot \\vec{V}_{vetra} \\odot \\vec{V}_{vetra} \\cdot A$\n",
    "\n",
    "<br> podatek A imamo izračunan že od prej, $\\rho$ izračunamo na podlagi temperature ter tlaka, hitrost vetra pa je podana. Ta enačba je poenostavljena, meddrugim tudi ne upošteva gradienta vetra, sunkov vetra itd.\n"
   ]
  },
  {
   "cell_type": "code",
   "execution_count": 14,
   "metadata": {},
   "outputs": [
    {
     "data": {
      "image/png": "[encoded data removed]",
      "text/latex": [
       "$\\displaystyle 0.0816814089933346$"
      ],
      "text/plain": [
       "0.08168140899333462"
      ]
     },
     "execution_count": 14,
     "metadata": {},
     "output_type": "execute_result"
    }
   ],
   "source": [
    "F_v = 0.5 * 1.3 * 100 * np.pi * 0.02**2\n",
    "F_v"
   ]
  },
  {
   "cell_type": "markdown",
   "metadata": {},
   "source": [
    "Tukaj moramo biti pozorni na smer vetra, saj nam $\\vec{V}_{vetra} \\odot \\vec{V}_{vetra}$ predznak izgubi. Ta problem bomo v implementaciji rešili z množenjem z masko predznakov.\n"
   ]
  },
  {
   "cell_type": "markdown",
   "metadata": {},
   "source": [
    "# Izračun poti leta\n"
   ]
  },
  {
   "cell_type": "markdown",
   "metadata": {},
   "source": [
    "Za izračun leta uporabimo prej izpeljano gibalno enačbo 1.2. Ta enačba nam pove pospešek žoge v odvisnosti od hitrosti žoge, je diferencialna enačba drugega reda.\n"
   ]
  },
  {
   "cell_type": "markdown",
   "metadata": {},
   "source": [
    "## Reševanje diferencialne enačbe\n"
   ]
  },
  {
   "cell_type": "markdown",
   "metadata": {},
   "source": [
    "Diferencialno enačbo bomo rešili z funkcijo `solve_ivp` iz knjižnice `SciPy`, funkcija se uporablja za reševanje diferencialne enačbe z začentnimi pogoji. Za reševanje ponuja več metod v tej nalogi uporabimo RK45 ali Runge-Kutta četrtega reda. Lokalna napaka te metode je petega reda $\\mathcal{O}(h^5)$ globalna pa četrtega reda $\\mathcal{O}(h^4)$, napako lahko tako ocenimo po formuli\n",
    "<br><br>$E_h=\\frac{y_{n,h}-y_{n,2h}}{15}$\n",
    "\n",
    "<br> za izvajanje kalkulacije poti sem namenil skripto `flight_calculation.py`, kjer sem pripravil funkcijo, ki izračuna pospešek pri določeni hitrosti. To funkcijo podamo `solve_ivp`, poleg začetnih pogojev ter seznama časovnih točk, pri katerih želimo oceniti pozicijo žoge. Funkcija `calculate_trajectory` poskrbi za vse te izračune. Opcijsko lahko podamo tudi parametra za čas opazovanja leta `n` in resoulcijo `res`. Kot rezultat pa dobimo seznam hitrosti in pozicije za vsako točko leta v treh dimenzijah\n"
   ]
  },
  {
   "cell_type": "code",
   "execution_count": 15,
   "metadata": {},
   "outputs": [
    {
     "data": {
      "image/png": "[encoded data removed]",
      "text/latex": [
       "$\\displaystyle \\left( 0.0, \\  300.0\\right)$"
      ],
      "text/plain": [
       "(0.0, 300.0)"
      ]
     },
     "execution_count": 15,
     "metadata": {},
     "output_type": "execute_result"
    },
    {
     "data": {
      "image/png": "[encoded data removed]",
      "text/plain": [
       "<Figure size 432x288 with 1 Axes>"
      ]
     },
     "metadata": {
      "needs_background": "light"
     },
     "output_type": "display_data"
    }
   ],
   "source": [
    "n = 10\n",
    "\n",
    "flight_data = flight_calculation.calculate_trajectory(n, 50)\n",
    "\n",
    "plt.plot(flight_data[3], flight_data[5])\n",
    "plt.grid()\n",
    "plt.ylim(0, 300)"
   ]
  },
  {
   "cell_type": "markdown",
   "metadata": {},
   "source": [
    "## Iskanje ničel\n"
   ]
  },
  {
   "cell_type": "markdown",
   "metadata": {},
   "source": [
    "Če želimo vedeti, časovno dolžino leta nas zanima pri kateri časovni točki $z$ koordinata pozicije preseka ničlo. Najprej potrebujemo ustvarit funkcijo pozicije v odvisnosti od časa, kar ponovno opravimo z interpolacijo\n",
    "<br><br> Ničle numerično poiščemo z `SciPy.optimize.newton`. Uporabljena je sekantna metoda, ker ne podamo odvoda funkcije. Med drugim moramo podati tudi oceno ničle, dana funkcija $z(t)$ ima vrednost nič v dveh točah, kar pomeni, da je izbira začetne predpostavljene vrednosti pomembna iz vidika numerične pravilnosti in ne le časovne optimizacije. Vemo, da se ničla, ki jo iščemo nahaja proti, koncu opazovanega leta, zato je zadnja točka opazovanega leta dovolj dobra ocena.\n",
    "<br><br> Napaka metode je odvisna od števila iteracij, ocenimo pa jo lahko z razliko med dvema zaporednima približkoma\n"
   ]
  },
  {
   "cell_type": "markdown",
   "metadata": {},
   "source": [
    "## Numerično integriranje\n"
   ]
  },
  {
   "cell_type": "markdown",
   "metadata": {},
   "source": [
    "Z funkcijo `analize_flight` dobimo podatke o dolžini udarca, zavoju udarca (slice / draw dolžina), maksimalno doseženo višino, dolžino krivulje leta in čas leta.\n",
    "<br><br>Krivuljo izračunamo z integracijo po času od 0 do časa pristanka: $\\int_{0}^{t_{d}} \\sqrt{v^{2}_{x}(t) + v^{2}_{y}(t) + v^{2}_{z}(t)}dt$.\n",
    "<br>Numerično pa impementiramo simpsonovo metodo za reševanje integrala. Uporabimo `SciPy.integrate.simpson`, funkciji za vsako željeno točko na abscisni osi podamo tudi rezultate funkcije, ki jo želimo integrirati, za vsako od teh točk. Napaka simpsonove metode je definirana kot $E= \n",
    "-\\frac{b-a}{180}h^4\\,f^{(4)}(\\eta)$\n",
    "<br> funkcija je implementirana v `flight_calculation.py`\n"
   ]
  },
  {
   "cell_type": "markdown",
   "metadata": {},
   "source": [
    "Poglejmo si let iz strani ter iz ptičje perspektive, na grafih so dodani podatki iz analize leta\n"
   ]
  },
  {
   "cell_type": "code",
   "execution_count": 16,
   "metadata": {},
   "outputs": [
    {
     "name": "stdout",
     "output_type": "stream",
     "text": [
      "čas leta 5.55s\n"
     ]
    },
    {
     "data": {
      "image/png": "[encoded data removed]",
      "text/plain": [
       "<Figure size 432x288 with 1 Axes>"
      ]
     },
     "metadata": {
      "needs_background": "light"
     },
     "output_type": "display_data"
    }
   ],
   "source": [
    "flight_analysis = flight_calculation.analize_flight(flight_data, n)\n",
    "\n",
    "# x/z\n",
    "plt.plot(flight_data[3], flight_data[5], label=f\"dolžina krivulje {flight_analysis[3]}m\")\n",
    "plt.ylim(0)\n",
    "plt.xlim(0, flight_analysis[0])\n",
    "plt.title(\"Stranski pogled leta\")\n",
    "plt.xlabel(f\"Dolžina {flight_analysis[0]}m\")\n",
    "plt.ylabel(f\"Višina {flight_analysis[2]}m\")\n",
    "plt.legend()\n",
    "print(f\"čas leta {round(flight_analysis[4], 2)}s\")"
   ]
  },
  {
   "cell_type": "code",
   "execution_count": 17,
   "metadata": {},
   "outputs": [
    {
     "data": {
      "text/plain": [
       "Text(0, 0.5, 'Zavoj 6.72m')"
      ]
     },
     "execution_count": 17,
     "metadata": {},
     "output_type": "execute_result"
    },
    {
     "data": {
      "image/png": "[encoded data removed]",
      "text/plain": [
       "<Figure size 432x288 with 1 Axes>"
      ]
     },
     "metadata": {
      "needs_background": "light"
     },
     "output_type": "display_data"
    }
   ],
   "source": [
    "# x/y\n",
    "plt.plot(flight_data[3], flight_data[4])\n",
    "plt.ylim(-flight_analysis[1] - 1, flight_analysis[1] + 1)\n",
    "plt.xlim(0, flight_analysis[0])\n",
    "plt.title(\"Pogled leta iz ptičje perspektive\")\n",
    "plt.xlabel(f\"Dolžina {flight_analysis[0]}m\")\n",
    "plt.ylabel(f\"Zavoj {flight_analysis[1]}m\")"
   ]
  },
  {
   "cell_type": "markdown",
   "metadata": {},
   "source": [
    "# Izračun izgube energije po odboju\n",
    "\n",
    "Z uporabo podatkov pridobljenih iz raziskave [1] lahko izračunamo hitrost in kotno hitrost žoge po pristanku na zelenico, ki pa so potrebni za preračun energijskih izgub.\n"
   ]
  },
  {
   "cell_type": "markdown",
   "metadata": {},
   "source": [
    "## Reševanje sistema linearnih enačb\n",
    "\n",
    "Podana je $3 x 3$ matrika koeficientov, vektor konstant je sestavljen $[v_x, v_y, w]$ kjer so to parametri pri pristanku. Z uporabo funkcije za reševanje sistema linearnih enačb `numpy.linalg.solve` izračunamo neznanke.\n",
    "<br><br> Definirajmo koeficiente in vektor konstant\n"
   ]
  },
  {
   "cell_type": "code",
   "execution_count": 18,
   "metadata": {},
   "outputs": [],
   "source": [
    "coef_matrix = np.array(\n",
    "    [\n",
    "        [0.56771812, 4.53916662, 0.03518492],\n",
    "        [0.99977526, -4.17652901, -0.02036161],\n",
    "        [-1.01552552, 5.73823483, 1.15819699],\n",
    "    ]\n",
    ")\n",
    "landing_velocity = np.append(flight_data[0:2, flight_analysis[5]], UI.spin_x_slider.value)"
   ]
  },
  {
   "cell_type": "markdown",
   "metadata": {},
   "source": [
    "z rešenim sistemom linearnih enačb dobimo podatek o hitrosti in kotni hitrosti po podboju od zelenice. Rezultat pa uporabimo za izračun energijskih izgub\n"
   ]
  },
  {
   "cell_type": "code",
   "execution_count": 19,
   "metadata": {},
   "outputs": [
    {
     "name": "stdout",
     "output_type": "stream",
     "text": [
      "sprememba x hitrosti po odboju 8.84 m/s\n",
      "sprememba y hitrosti po odboju -1.22 m/s\n",
      "sprememba z hitrosti po odboju -10.23 m/s\n",
      "sprememba kotne hitrosti po odboju 197.37 rad/s\n",
      "sprememba kinetične energije -13.31 J\n"
     ]
    }
   ],
   "source": [
    "after_landing = np.round(np.linalg.solve(coef_matrix, landing_velocity), 2)\n",
    "\n",
    "e = 0.3\n",
    "v_0 = np.linalg.norm(flight_data[:3, flight_analysis[5]])\n",
    "v_1 = np.linalg.norm(np.append(after_landing[:2], flight_data[2, flight_analysis[5]] * e))\n",
    "delta_E = round(\n",
    "    ball.ball_properties.get(\"mass\")\n",
    "    * (\n",
    "        0.5 * (v_1**2 - v_0**2)\n",
    "        + ball.ball_properties.get(\"diameter\")**2\n",
    "        / 40\n",
    "        * (after_landing[2] ** 2 - UI.spin_y_slider.value**2)\n",
    "    ),\n",
    "    2,\n",
    ")\n",
    "\n",
    "print(\n",
    "    f\"sprememba x hitrosti po odboju {round(flight_data[0, flight_analysis[5]] - after_landing[0], 2)} m/s\"\n",
    ")\n",
    "print(\n",
    "    f\"sprememba y hitrosti po odboju {round(flight_data[1, flight_analysis[5]] - after_landing[1], 2)} m/s\"\n",
    ")\n",
    "print(\n",
    "    f\"sprememba z hitrosti po odboju {round(flight_data[2, flight_analysis[5]] - flight_data[2, flight_analysis[5]] * e, 2)} m/s\"\n",
    ")\n",
    "print(\n",
    "    f\"sprememba kotne hitrosti po odboju {round(-UI.spin_y_slider.value + after_landing[2], 2)} rad/s\"\n",
    ")\n",
    "print(f\"sprememba kinetične energije {delta_E} J\")"
   ]
  },
  {
   "cell_type": "markdown",
   "metadata": {},
   "source": [
    "# Simulacija\n",
    "\n",
    "Z implementacijo vseh funkcij lahko ustvarimo simulacijo leta za poljubne parametre.\n",
    "\n",
    "<br><br> V spodnjem uporabniškem vmesniku lahko nastavljamo razne parametre. Izris leta pa se v živo posodablja z spreminjanjem parametrov. Z uporabo večjega monitorja dosežemo boljšo uporabniško izkušnju, v primeru manjšega monitorja pa se pri nastavitvi parametrov pojavi drsnik. Za starejše verzije jupyter notebook-a je za delovanje vmesnika potreben ročni zagon z uporabo komande ```jupyter nbextension enable --py widgetsnbextension``` v terminalu.\n",
    "<br><br> **Žoga:**\n",
    "<br>lahko vzamemo pripravljene podatke za vsako palico ali pa izklopimo ```Uporabi Pre-set parametre```, pokaže se nam več opcij, ki vplivajo na let žoge.\n",
    "<br>Imamo tudi možnost izbirati tip žoge, ki, kot smo prej videli, spremeni vpliv upora zraka.\n",
    "<br><br> **Vreme**\n",
    "<br>Vreme lahko nastavimo ročno ali pa obkljukamo ```Uporabi lokalno vreme```, ki pokliče trenutne podatke v izbranem mestu. Za uporabo funkcije je potrebna internetna povezava.\n",
    "<br><br>Za ponastavitev parametrov ponovno poženite spodnjo celico"
   ]
  },
  {
   "cell_type": "code",
   "execution_count": 20,
   "metadata": {},
   "outputs": [
    {
     "data": {
      "application/vnd.jupyter.widget-view+json": {
       "model_id": "4a931c5f57ae413c8768ee5334c48f74",
       "version_major": 2,
       "version_minor": 0
      },
      "text/plain": [
       "HBox(children=(VBox(children=(VBox(children=(Checkbox(value=True, description='Uporabi Pre-set parametre'), Dr…"
      ]
     },
     "metadata": {},
     "output_type": "display_data"
    }
   ],
   "source": [
    "reload(UI)\n",
    "reload(flight_calculation)\n",
    "reload(environment)\n",
    "reload(ball)\n",
    "UI.live_plot()"
   ]
  },
  {
   "cell_type": "markdown",
   "metadata": {},
   "source": [
    "# Literatura"
   ]
  },
  {
   "cell_type": "markdown",
   "metadata": {},
   "source": [
    "[1]\n",
    "S. W. Biber, K. M. Jones, A. R. Champneys, R. Green, and R. Szalai, “Measurements and linearized models for golf ball bounce on a green,” Sports Engineering, vol. 26, no. 1, Dec. 2023, doi: https://doi.org/10.1007/s12283-023-00442-4.\n",
    "\n",
    "[2]\n",
    "F. Alam et al., “A study of golf ball aerodynamic drag,” Procedia Engineering, vol. 13, pp. 226–231, 2011, doi: https://doi.org/10.1016/j.proeng.2011.05.077.\n",
    "\n",
    "‌\n",
    "\n",
    "‌"
   ]
  }
 ],
 "metadata": {
  "kernelspec": {
   "display_name": "Python 3 (ipykernel)",
   "language": "python",
   "name": "python3"
  },
  "language_info": {
   "codemirror_mode": {
    "name": "ipython",
    "version": 3
   },
   "file_extension": ".py",
   "mimetype": "text/x-python",
   "name": "python",
   "nbconvert_exporter": "python",
   "pygments_lexer": "ipython3",
   "version": "3.7.6"
  },
  "toc": {
   "base_numbering": 1,
   "nav_menu": {},
   "number_sections": true,
   "sideBar": true,
   "skip_h1_title": false,
   "title_cell": "Kazalo",
   "title_sidebar": "Contents",
   "toc_cell": true,
   "toc_position": {
    "height": "calc(100% - 180px)",
    "left": "10px",
    "top": "150px",
    "width": "336px"
   },
   "toc_section_display": true,
   "toc_window_display": false
  }
 },
 "nbformat": 4,
 "nbformat_minor": 4
}
