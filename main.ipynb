{
 "cells": [
  {
   "cell_type": "markdown",
   "metadata": {
    "collapsed": false,
    "pycharm": {
     "name": "#%% md\n"
    }
   },
   "source": [
    "# Dinamika golf žogice"
   ]
  },
  {
   "cell_type": "markdown",
   "metadata": {
    "collapsed": false,
    "pycharm": {
     "name": "#%% md\n"
    }
   },
   "source": [
    "Glavni cilji:\n",
    "&nbsp;dobiti gibalno enačbo golf žogice iz podatkov udarca\n",
    "&nbsp;se približati realni trijektoriji\n",
    "&nbsp;raziskati vpliv udarca na višji/nižji položaj\n",
    "&nbsp;Preseti za različne palice\n",
    "\n",
    "dodatki/ideje:\n",
    "&nbsp;user interface\n",
    "&nbsp;video celotne poti žoge\n",
    "&nbsp;kompatibilnost z podatki iz launch monitorja\n",
    "\n",
    "gibalna enačba zahteve:\n",
    "&nbsp;upor se spremenja z renoldsovem stevilu\n",
    "&nbsp;funkcijo koeficienta upora dobimo z interpolacijo vrednosti (https://sci-hub.se/https://doi.org/10.1016/j.proeng.2011.05.077)\n",
    "\n",
    "&nbsp;dobimo gibalno enačbo jo dvakrat integriramo po času in dobimo enačbo za pot\n",
    "&nbsp;rešimo sistem enačb in dobimo pozicijo žoge ob vsakem času"
   ]
  },
  {
   "cell_type": "markdown",
   "metadata": {
    "collapsed": false,
    "pycharm": {
     "name": "#%%\n"
    }
   },
   "source": [
    "Uvozimo knjižnice potrebne za izvajanje programa ter nastavimo ostale parametre glede programa samega"
   ]
  },
  {
   "cell_type": "code",
   "execution_count": 42,
   "metadata": {
    "collapsed": false,
    "pycharm": {
     "name": "#%%\n"
    }
   },
   "outputs": [],
   "source": [
    "#!pip install numpy\n",
    "#!pip install sympy\n",
    "#!pip install matplotlib\n",
    "#!pip install importlib\n",
    "#!pip install ipywidgets\n",
    "\n",
    "import numpy as np\n",
    "import sympy as sym\n",
    "import matplotlib.pyplot as plt\n",
    "\n",
    "from src import UI, environment, ball, flight_calculation\n",
    "from importlib import reload\n",
    "from IPython.display import display\n",
    "\n",
    "sym.init_printing(use_latex=True) "
   ]
  },
  {
   "cell_type": "markdown",
   "metadata": {},
   "source": [
    "## Matematični Uvod\n",
    "\n",
    "Na žogico v letu deluje veliko različbih faktorjev, v tem projektu bom poskusil zajeti dejavnike z največjim vplivom na let.\n",
    "<br> Te dejavniki so:\n",
    "- Zračni upor\n",
    "- Magnus efekt\n",
    "- Veter\n",
    "- Gravitacija\n",
    "\n",
    "<br>Ti dejavniki so pa odvisni od temperature, tlaka, hitrosti itd.\n",
    "<br>Poglejmo si kako lahko zapišemo vpliv teh faktorjev v gibalni enačbi\n",
    "\n"
   ]
  },
  {
   "cell_type": "markdown",
   "metadata": {},
   "source": [
    "Silo vseh komponent, ki delujejo na žogico v letu lahko zapišemo tako:\n",
    "\n",
    "<br>$\\vec{\\ddot{r}}\\cdot m_{zogica}  = \\vec{F}_{upora}+\\vec{F}_{magnus}+\\vec{F}_{veter}+\\vec{F}_{g}$\n",
    "\n",
    "<br>Da izrazimo vektor pospeška žoge delimo enačbo z $m_{zogica}$ in dobimo\n",
    "\n",
    "<br>$\\vec{\\ddot{r}} = \\vec{F}_{upora}/m_{zogice}+\\vec{F}_{magnus}/m_{zogice}+\\vec{F}_{veter}/m_{zogice}+\\vec{g}$\n",
    "\n",
    "<br>Zdaj pa moramo definirati vsako neznano silo\n"
   ]
  },
  {
   "cell_type": "markdown",
   "metadata": {},
   "source": [
    "## Izpeljava sile zračnega upora\n",
    "\n",
    "<br>Silo zračnega upora modeliramo po kvadratnemu zakonu upora\n",
    "\n",
    "<br>&nbsp;&nbsp;&nbsp;&nbsp;&nbsp;$\\vec{F} = \\frac{1}{2}\\cdot C_{d}\\cdot \\rho \\cdot A \\cdot \\vec{v} \\odot \\vec{v}$\n",
    "\n",
    "<br>&nbsp;&nbsp;&nbsp;&nbsp;&nbsp;kjer $\\odot$ označuje operacijo množenja vektorjev po elementih\n",
    "\n",
    "**poiščimo neznanke:**\n",
    "\n",
    "<br>&nbsp;&nbsp;&nbsp;&nbsp;&nbsp;$C_{d}$ bomo spodaj izračunali s pomočjo interpolacije saj ni konstanten, temveč odvisen od hitrosti\n",
    "\n",
    "<br>&nbsp;&nbsp;&nbsp;&nbsp;&nbsp;$\\rho [\\frac{Kg}{m^3}]$ bomo izračunali po zakonu idealnih plinov $\\rho = \\frac{p}{R \\cdot T}$, kjer je:\n",
    "<br>&nbsp;&nbsp;&nbsp;&nbsp;&nbsp;&nbsp;&nbsp;&nbsp;- $p$ tlak [$Pa$]\n",
    "<br>&nbsp;&nbsp;&nbsp;&nbsp;&nbsp;&nbsp;&nbsp;&nbsp;- $R$ specifična plinska konstanta [$\\frac{J}{Kg \\cdot K}$]\n",
    "<br>&nbsp;&nbsp;&nbsp;&nbsp;&nbsp;&nbsp;&nbsp;&nbsp;- $T$ temperatura [$K$]\n",
    "\n",
    "<br>&nbsp;&nbsp;&nbsp;&nbsp;&nbsp;$A [m^2]$ je projektirana površina, ki se upira zraku izračunana po formuli $A = \\pi r^{2}$\n",
    "\n",
    "<br>&nbsp;&nbsp;&nbsp;&nbsp;&nbsp;$\\vec{v}$ pa je spremenljivka"
   ]
  },
  {
   "cell_type": "markdown",
   "metadata": {},
   "source": [
    "### Interpolacija funkcije koeficienta trenja v odvisnosti od Reynoldsovega števila"
   ]
  },
  {
   "cell_type": "markdown",
   "metadata": {},
   "source": [
    "Izkaže se, da je koeficient trenja $C_{d}$ odvisen od hitrosti potovanja žogice relativno za okoliški zrak. Študija [1] raziskuje ravno to relacijo, v svojih eksperimentih so uporabili odvisnost $C_{d}$ od Reynoldsovega števila. Iz njihovih rezultatov sem shranil nekaj izmerjenih točk za različne proizvajalce golf žogic.\n",
    "<br>Poglejmo si izmerjene podatke za vse tri žogice"
   ]
  },
  {
   "cell_type": "code",
   "execution_count": null,
   "metadata": {},
   "outputs": [],
   "source": [
    "reload(ball)\n",
    "\n",
    "def print_points():\n",
    "    calloway = ball.read_ball_data(ball_type=\"Calloway\")\n",
    "    titleist = ball.read_ball_data(ball_type=\"Titleist\")\n",
    "    taylormade = ball.read_ball_data(ball_type=\"TaylorMade\")\n",
    "\n",
    "    plt.plot(calloway[:, 0], calloway[:, 1], \"ro\")\n",
    "    plt.plot(titleist[:, 0], titleist[:, 1], \"b^\")\n",
    "    plt.plot(taylormade[:, 0], taylormade[:, 1], \"g*\")\n",
    "\n",
    "print_points()\n",
    "\n",
    "legend_handles = [\n",
    "    plt.Line2D([0], [0], marker='o', color='w', markerfacecolor='r', markersize=8),\n",
    "    plt.Line2D([0], [0], marker='^', color='w', markerfacecolor='b', markersize=8),\n",
    "    plt.Line2D([0], [0], marker='*', color='w', markerfacecolor='g', markersize=8)\n",
    "]\n",
    "legend_labels = [\"Callaway\", \"Titleist\", \"TaylorMade\"]\n",
    "\n",
    "plt.legend(legend_handles, legend_labels)\n",
    "\n",
    "plt.title(\"Eksperimentalno določene vrednosti\")\n",
    "\n",
    "plt.xlim(45000,145000)\n",
    "plt.xlabel(\"Reynoldsovo število\")\n",
    "plt.ylabel(\"Koeficient trenja\")\n"
   ]
  },
  {
   "cell_type": "markdown",
   "metadata": {},
   "source": [
    "Očitno je koeficient odvisen od Renoldsovega števila. Zanimiva je tudi razlika med karekteristikami proizvajalca.\n",
    "<br>Da pa to karakteristiko popišemo potrebujemo funkcijo, da lahko pri poljubnem Renoldsovem številu dobimo koeficient trenja. To naredimo z interpolacijo, interpoliramo z uporabo knjižnice scipy.\n",
    "<br><br>Poglejmo rezultantne funkcije\n"
   ]
  },
  {
   "cell_type": "code",
   "execution_count": null,
   "metadata": {},
   "outputs": [],
   "source": [
    "reload(ball)\n",
    "s_ca = ball.c_d_re_interpolation(ball_type=\"Calloway\")\n",
    "s_ti = ball.c_d_re_interpolation(ball_type=\"Titleist\")\n",
    "s_ta = ball.c_d_re_interpolation(ball_type=\"TaylorMade\")\n",
    "\n",
    "test_x = np.linspace(0, 190000, 1000)\n",
    "test_y_ca = s_ca(test_x)\n",
    "test_y_ti = s_ti(test_x)\n",
    "test_y_ta = s_ta(test_x)\n",
    "\n",
    "plt.title(r\"Interpolirana funkcija $\\mathregular{C_d}$(Re)\")\n",
    "plt.xlabel(\"Reynoldsovo število\")\n",
    "plt.ylabel(\"Koeficient trenja\")\n",
    "\n",
    "print_points()\n",
    "\n",
    "legend_handles = [\n",
    "    plt.Line2D([0], [0], color='r', markersize=8),\n",
    "    plt.Line2D([0], [0], color='b', markersize=8),\n",
    "    plt.Line2D([0], [0], color='g', markersize=8)\n",
    "]\n",
    "\n",
    "legend_labels = [\"Callaway\", \"Titleist\", \"TaylorMade\"]\n",
    "\n",
    "plt.legend(legend_handles, legend_labels)\n",
    "plt.xlim(45000,145000)\n",
    "plt.ylim(0, 0.8)\n",
    "\n",
    "plt.plot(test_x, test_y_ca, \"r\")\n",
    "plt.plot(test_x, test_y_ti, \"b\")\n",
    "plt.plot(test_x, test_y_ta, \"g\")\n",
    "\n"
   ]
  },
  {
   "cell_type": "markdown",
   "metadata": {},
   "source": [
    "In tako smo definirali vse neznanke za modeliranje zračnega upora.\n",
    "<br><br>Končna formula zračnega upora je torej $\\vec{F} = \\frac{1}{2}\\cdot \\frac{p}{R \\cdot T} \\cdot \\pi r^{2} \\cdot \\vec{v} \\odot \\vec{v} \\odot S_{zoge}(\\vec{v})$"
   ]
  },
  {
   "cell_type": "markdown",
   "metadata": {},
   "source": [
    "## Izpeljava sile vzgona (Magnus efekt)\n",
    "\n",
    "<br>Sila sledeča iz magnus efekta se definira kot  $\\vec{F}=S(\\vec{\\omega}\\times \\vec{v})$\n",
    "\n",
    "<br>$\\vec{\\omega}$ bomo vzeli kot podan podatek in predpostavili, da se skozi let ne spreminja.\n",
    "\n",
    "<br>$\\vec{v}$ je tako kot prej spremenljivka\n",
    "\n",
    "<br>$S$ pa bomo izpeljali iz bernoullijeve enačbe in knjižnice za simbolno računanje sympy"
   ]
  },
  {
   "cell_type": "markdown",
   "metadata": {},
   "source": [
    "### Izpeljava $S$ z sympy"
   ]
  },
  {
   "cell_type": "markdown",
   "metadata": {},
   "source": [
    "Bernoullijeva enačba z izpostevljeno spremembo tlaka\n",
    "<br><br>$\\Delta p=\\frac{\\rho}{2}(\\vec{v_{a}}^{2}-\\vec{v_{b}}^{2})$\n",
    "<br><br>Želimo pa vstaviti vrednosti za $\\vec{v_{a}}^{2}$ in $\\vec{v_{b}}^{2}$ te dve hitrosti si lahko predstavljamo, kot hitrost z katero zrak obteka žogo. To hitrost lahko zapišemo kot  $\\vec{v_{a}}=\\vec{v_{0}}-\\vec{\\omega}\\times\\vec{r}$ in podobno tudi za $\\vec{v_{b}}$\n",
    "<br>Z nadalnjo poenostavitvijo dobimo $\\Delta p = \\frac{1}{2} \\rho r (\\vec{\\omega}\\times \\vec{v})$\n",
    "<br>Vemo, da je $\\vec{F} = \\int_{A}^{}\\Delta p\\text{ }dA$ in ko vstavimo vidimo, da je $\\vec{F} = \\frac{1}{2} \\rho r (\\vec{\\omega}\\times \\vec{v}) \\cdot \\int_{A}^{}dA = \\frac{1}{2} \\rho A r (\\vec{\\omega}\\times \\vec{v})$. Iz tega pa razberemo, da je $S = \\frac{1}{2} \\rho A r$"
   ]
  },
  {
   "cell_type": "code",
   "execution_count": null,
   "metadata": {},
   "outputs": [],
   "source": [
    "rho, r, r_1_s = sym.symbols(\"rho, r r_1\", positive=True)\n",
    "w = sym.Matrix(sym.MatrixSymbol(\"w\", 3, 1))\n",
    "v = sym.Matrix(sym.MatrixSymbol(\"v\", 3, 1))"
   ]
  },
  {
   "cell_type": "markdown",
   "metadata": {},
   "source": [
    "sedaj rabimo izračunati A. A je povprečna projektirana površina žogice. To izračunamo tako, da izenačimo ploščino sredinskega kroga (z radijem $r_1$)\n",
    "<br>ter ploščino kolobara (z notranjim radijem $r_1$ in zunanjim radijem $r$) in izračunamo $r_1$, ki je radius kroga z povprečno projektirano površino\n"
   ]
  },
  {
   "cell_type": "code",
   "execution_count": null,
   "metadata": {},
   "outputs": [],
   "source": [
    "A_1 = sym.pi * r_1_s ** 2\n",
    "A_k = sym.pi * r ** 2 - A_1\n",
    "r_1 = sym.solve(sym.Eq(A_1, A_k), r_1_s, positive=True)\n",
    "r_1[0]"
   ]
  },
  {
   "cell_type": "markdown",
   "metadata": {},
   "source": [
    "izračunali smo da je $r_1 = \\frac{r}{\\sqrt{2}}$ sedaj lahko zapišemo celotno enačbo za $S$\n",
    "<br>$S = \\rho r_{1}^{3} \\pi$\n",
    "<br>in to poračunamo z $\\vec{\\omega}\\times \\vec{v}$\n"
   ]
  },
  {
   "cell_type": "code",
   "execution_count": null,
   "metadata": {},
   "outputs": [],
   "source": [
    "F = 2 * rho * r_1[0] ** 2 * r * sym.pi * w.cross(v)\n",
    "F"
   ]
  },
  {
   "cell_type": "markdown",
   "metadata": {},
   "source": [
    "nato pa spremenimo v numerično funkcijo z predvstavljenimi konstantnimi vrednostmi"
   ]
  },
  {
   "cell_type": "code",
   "execution_count": null,
   "metadata": {},
   "outputs": [],
   "source": [
    "F = F.subs({w[0]:0, w[1]:200, w[2]:0, rho:1.3, r:0.02})\n",
    "f = sym.lambdify(v, F, \"numpy\")"
   ]
  },
  {
   "cell_type": "markdown",
   "metadata": {},
   "source": [
    "To funkcijo pa lahko uporabljamo za hitrejše izračune sile saj se bo izvajala za izračun v vsaki časovni točki leta"
   ]
  },
  {
   "cell_type": "markdown",
   "metadata": {},
   "source": [
    "## Izpeljava sile vetra\n",
    "\n",
    "Silo delujočo na žogico med letom bomo izračunali po neslednji formuli\n",
    "<br><br> $F_{vetra} = 0.5 \\cdot \\rho \\cdot \\vec{V}_{vetra}^{2} \\cdot A$\n",
    "\n",
    "<br> podatek A imamo izrečunan že od prej, $\\rho$ izračunamo na podlagi temperature ter tlaka, hitrost vetra pa je podana. Ta enačba je poenostavljena, meddrugim tudi ne upošteva gradienta vetra, sunkov vetra, nehomogenost zračne mase itd."
   ]
  },
  {
   "cell_type": "code",
   "execution_count": null,
   "metadata": {},
   "outputs": [],
   "source": [
    "F_v = 0.5 * 1.3*100*np.pi*0.02**2\n",
    "F_v"
   ]
  },
  {
   "cell_type": "markdown",
   "metadata": {},
   "source": [
    "Tukaj moramo biti pozorni na smer vetra, saj nam $\\vec{V}^{2}$ predznak izgubi. Ta problem bomo v implementaciji rešili z množenjem z masko predznakov."
   ]
  },
  {
   "cell_type": "markdown",
   "metadata": {},
   "source": [
    "### Gibalna enačba\n",
    "\n",
    "<br>sestavljena gibalna enačba izgleda nekako tako\n",
    "\n",
    "$$\\vec{\\ddot{r}} = \\frac{1}{2}\\cdot \\frac{p}{R \\cdot T} \\cdot \\pi r^{2} \\cdot \\vec{v} \\odot \\vec{v} \\odot S_{zoge}(\\vec{v})\\frac{1}{m} + \n",
    "\\rho\\,\\frac{1}{2} \\rho A r (\\vec{\\omega}\\times \\vec{v})+\n",
    " 0.5 \\cdot \\rho \\cdot \\vec{V}_{vetra}^{2} \\cdot A \\cdot \\frac{1}{m}+\n",
    " \\vec{g}\n",
    "$$\n",
    "\n",
    "\n"
   ]
  },
  {
   "cell_type": "markdown",
   "metadata": {},
   "source": [
    "<br>Sedaj pa jo numerično implementiramo, numeročno kalkulacijo opravimo v \"flight_calculation.py\" skripti tukaj pa dobimo rezulatate s klicom funkcije \"calculate_trajectory\". Funkciji podamo čas opazovanja $n$ in z časovno resolucijo $r$.\n",
    "<br>\n",
    "V ozadju funkcije \"calculate_trajectory\" calculate trajectory rešujemo diferencialno enačbo drugega reda, z RK45 numerično metodo z funkcijo solve_ivp iz modula SciPy, za vsako točko v definiranem intervalu."
   ]
  },
  {
   "cell_type": "code",
   "execution_count": 25,
   "metadata": {},
   "outputs": [
    {
     "data": {
      "image/png": "[encoded data removed]",
      "text/latex": [
       "$\\displaystyle \\left( 0.0, \\  300.0\\right)$"
      ],
      "text/plain": [
       "(0.0, 300.0)"
      ]
     },
     "execution_count": 25,
     "metadata": {},
     "output_type": "execute_result"
    },
    {
     "data": {
      "image/png": "[encoded data removed]",
      "text/plain": [
       "<Figure size 640x480 with 1 Axes>"
      ]
     },
     "metadata": {},
     "output_type": "display_data"
    }
   ],
   "source": [
    "reload(flight_calculation)\n",
    "reload(environment)\n",
    "reload(ball)\n",
    "\n",
    "n = 12\n",
    "\n",
    "flight_data = flight_calculation.calculate_trajectory(n,res=50)\n",
    "\n",
    "plt.plot(flight_data[3], flight_data[5])\n",
    "plt.grid()\n",
    "plt.ylim(0,300)\n",
    "\n",
    "#flight_data.y[3]\n"
   ]
  },
  {
   "cell_type": "markdown",
   "metadata": {},
   "source": [
    "Z funkcijo \"analize_flight\" dobimo podatke o dolžini udarca, zavoju udarca (slice / draw dolžina), maksimalno doseženo višino in dolžino krivulje leta. Krivuljo izračunamo z integracijo po času od 0 do časa pristanka: $\\int_{0}^{t_{d}} \\sqrt{v^{2}_{x}(t) + v^{2}_{y}(t) + v^{2}_{z}(t)}dt$. \n",
    "<br>Numerično pa impementiramo simpsonovo metodo za reševanje integrala."
   ]
  },
  {
   "cell_type": "code",
   "execution_count": 44,
   "metadata": {},
   "outputs": [
    {
     "name": "stdout",
     "output_type": "stream",
     "text": [
      "dolžina krivulje leta: 315.27m\n"
     ]
    },
    {
     "data": {
      "image/png": "[encoded data removed]",
      "text/plain": [
       "<Figure size 640x480 with 1 Axes>"
      ]
     },
     "metadata": {},
     "output_type": "display_data"
    }
   ],
   "source": [
    "\n",
    "reload(flight_calculation)\n",
    "flight_analysis = flight_calculation.analize_flight(flight_data, n)\n",
    "\n",
    "# x/z\n",
    "plt.plot(flight_data[3], flight_data[5])\n",
    "plt.ylim(0)\n",
    "plt.xlim(0, flight_analysis[0])\n",
    "plt.title(\"2D trajectory\")\n",
    "plt.xlabel(f\"Dolžina {flight_analysis[0]}m\")\n",
    "plt.ylabel(f\"Višina {flight_analysis[2]}m\")\n",
    "print(f\"dolžina krivulje leta: {flight_analysis[3]}m\")"
   ]
  },
  {
   "cell_type": "code",
   "execution_count": 45,
   "metadata": {},
   "outputs": [
    {
     "data": {
      "text/plain": [
       "Text(0, 0.5, 'Zavoj 20.86m')"
      ]
     },
     "execution_count": 45,
     "metadata": {},
     "output_type": "execute_result"
    },
    {
     "data": {
      "image/png": "[encoded data removed]",
      "text/plain": [
       "<Figure size 640x480 with 1 Axes>"
      ]
     },
     "metadata": {},
     "output_type": "display_data"
    }
   ],
   "source": [
    "# x/y\n",
    "plt.plot(flight_data[3], flight_data[4])\n",
    "plt.ylim(-flight_analysis[1], flight_analysis[1])\n",
    "plt.xlim(0, flight_analysis[0])\n",
    "plt.title(\"2D trajectory\")\n",
    "plt.xlabel(f\"Dolžina {flight_analysis[0]}m\")\n",
    "plt.ylabel(f\"Zavoj {flight_analysis[1]}m\")"
   ]
  },
  {
   "cell_type": "markdown",
   "metadata": {},
   "source": [
    "## Nastavimo parametre leta\n",
    "\n",
    "<br>Izberemo palico ter žogo, ali pa nastavimo poljubne parametre.\n",
    "\n",
    "<br>Parametri so že nastavljeni na vrednosti pri morski gladini in brez vetra, lahko pa jih spreminjate v okviru dovoljenih mej.\n",
    "0° pomeni veter v hrbet, kot pa se povečuje v nasprotni smeri urinega kazalca"
   ]
  },
  {
   "cell_type": "code",
   "execution_count": 43,
   "metadata": {},
   "outputs": [
    {
     "data": {
      "application/vnd.jupyter.widget-view+json": {
       "model_id": "352d271506eb418a87a84b70c293d31d",
       "version_major": 2,
       "version_minor": 0
      },
      "text/plain": [
       "HBox(children=(VBox(children=(VBox(children=(Checkbox(value=True, description='Uporabi Pre-set parametre'), Dr…"
      ]
     },
     "metadata": {},
     "output_type": "display_data"
    }
   ],
   "source": [
    "reload(UI)\n",
    "reload(flight_calculation)\n",
    "live_plot()"
   ]
  },
  {
   "cell_type": "code",
   "execution_count": null,
   "metadata": {},
   "outputs": [],
   "source": []
  },
  {
   "cell_type": "code",
   "execution_count": null,
   "metadata": {},
   "outputs": [],
   "source": [
    "\n"
   ]
  },
  {
   "cell_type": "code",
   "execution_count": null,
   "metadata": {},
   "outputs": [],
   "source": []
  }
 ],
 "metadata": {
  "kernelspec": {
   "display_name": "Python 3",
   "language": "python",
   "name": "python3"
  },
  "language_info": {
   "codemirror_mode": {
    "name": "ipython",
    "version": 3
   },
   "file_extension": ".py",
   "mimetype": "text/x-python",
   "name": "python",
   "nbconvert_exporter": "python",
   "pygments_lexer": "ipython3",
   "version": "3.9.2"
  }
 },
 "nbformat": 4,
 "nbformat_minor": 0
}
